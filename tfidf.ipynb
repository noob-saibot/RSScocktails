{
 "cells": [
  {
   "cell_type": "code",
   "execution_count": 8,
   "metadata": {},
   "outputs": [],
   "source": [
    "from grab import Grab\n",
    "from sqlalchemy import create_engine\n",
    "from sqlalchemy.ext.declarative import declarative_base\n",
    "from sqlalchemy.orm import sessionmaker\n",
    "from sqlalchemy import Column, Integer, String\n",
    "from sqlalchemy import Sequence\n",
    "from RSSgrab import Cocktails\n",
    "from RSSdb import Connector\n",
    "import pandas as pd\n",
    "import numpy as np\n",
    "import nltk\n",
    "import itertools\n",
    "import matplotlib.pyplot as plt\n",
    "import xml.etree.ElementTree as ET\n",
    "import scipy.spatial.distance as dist\n",
    "from sklearn.feature_extraction.text import TfidfVectorizer"
   ]
  },
  {
   "cell_type": "code",
   "execution_count": 2,
   "metadata": {},
   "outputs": [],
   "source": [
    "con = Connector()\n",
    "df = con.get_values('cocktails')"
   ]
  },
  {
   "cell_type": "code",
   "execution_count": 9,
   "metadata": {},
   "outputs": [],
   "source": [
    "vect = TfidfVectorizer(min_df=1)\n",
    "tfidf = vect.fit_transform(df.mix)"
   ]
  },
  {
   "cell_type": "code",
   "execution_count": 23,
   "metadata": {},
   "outputs": [],
   "source": [
    "df_2 = pd.DataFrame((tfidf*tfidf.T).A, columns=df.name, index=df.name)"
   ]
  },
  {
   "cell_type": "code",
   "execution_count": 30,
   "metadata": {
    "scrolled": true
   },
   "outputs": [
    {
     "data": {
      "text/plain": [
       "name\n",
       "White Russian             1.000000\n",
       "Brave Bull                0.691746\n",
       "Black Russian             0.659209\n",
       "Liquid Snickers           0.645244\n",
       "Mikado Cocktail           0.621293\n",
       "Montreal Club Bouncer     0.615603\n",
       "Montana                   0.604748\n",
       "Russian Cream             0.604393\n",
       "Butter Nut Scotch         0.597869\n",
       "Godmother                 0.597536\n",
       "T.N.T. No. 2              0.589145\n",
       "Netherland                0.589145\n",
       "What The Hell             0.583528\n",
       "Silverado                 0.577793\n",
       "Moonlight                 0.574860\n",
       "Capri                     0.574860\n",
       "Barton Special            0.574860\n",
       "Top Banana                0.574860\n",
       "Polonaise                 0.574860\n",
       "Combo                     0.574860\n",
       "Stirrup Cup               0.574860\n",
       "Coffee Grasshopper        0.574860\n",
       "Creole                    0.574860\n",
       "Clamato Cocktail          0.574860\n",
       "Van Vleet                 0.574860\n",
       "Greenback                 0.574860\n",
       "Vesuvio                   0.574860\n",
       "Charlie Chaplin           0.574860\n",
       "Kamikaze                  0.574860\n",
       "Chocolate Rum             0.574860\n",
       "                            ...   \n",
       "Red Snapper               0.000000\n",
       "Liquid Asphault           0.000000\n",
       "Green Apple #1            0.000000\n",
       "Green Spider              0.000000\n",
       "Rok-Shasa                 0.000000\n",
       "Frozen Girl Scout         0.000000\n",
       "Evil Slider               0.000000\n",
       "Bumble Bee #2             0.000000\n",
       "Black Russian #3          0.000000\n",
       "King of Denmark           0.000000\n",
       "Bushwacker #5             0.000000\n",
       "Erin's Sweater            0.000000\n",
       "Squirrel                  0.000000\n",
       "Creamy Grasshopper        0.000000\n",
       "Yellow Sock               0.000000\n",
       "Dark Nightmare            0.000000\n",
       "Creeping Death            0.000000\n",
       "Dirty Oatmeal             0.000000\n",
       "Cruz Azul (Blue Cross)    0.000000\n",
       "GSM                       0.000000\n",
       "Spice and Ice             0.000000\n",
       "Purple Hooter #1          0.000000\n",
       "Piedra Putamadre          0.000000\n",
       "Nadal furia               0.000000\n",
       "Green Cow                 0.000000\n",
       "BMW                       0.000000\n",
       "Bailey's Dream Shake      0.000000\n",
       "James D                   0.000000\n",
       "Robitussin                0.000000\n",
       "Boozy Maria               0.000000\n",
       "Name: White Russian, Length: 6211, dtype: float64"
      ]
     },
     "execution_count": 30,
     "metadata": {},
     "output_type": "execute_result"
    }
   ],
   "source": [
    "df_2.sort_values('White Russian', ascending=False)['White Russian']"
   ]
  },
  {
   "cell_type": "code",
   "execution_count": 34,
   "metadata": {},
   "outputs": [
    {
     "data": {
      "text/plain": [
       "['2 oz Vodka 1 oz Coffee liqueur Light cream',\n",
       " '1 1/2 oz Vodka 1 1/2 oz Campari 1 oz Orange juice']"
      ]
     },
     "execution_count": 34,
     "metadata": {},
     "output_type": "execute_result"
    }
   ],
   "source": [
    "df[df.name.isin(['White Russian', 'Silverado'])].ing.values.tolist()"
   ]
  },
  {
   "cell_type": "code",
   "execution_count": null,
   "metadata": {},
   "outputs": [],
   "source": []
  }
 ],
 "metadata": {
  "kernelspec": {
   "display_name": "Python 3",
   "language": "python",
   "name": "python3"
  },
  "language_info": {
   "codemirror_mode": {
    "name": "ipython",
    "version": 3
   },
   "file_extension": ".py",
   "mimetype": "text/x-python",
   "name": "python",
   "nbconvert_exporter": "python",
   "pygments_lexer": "ipython3",
   "version": "3.5.2"
  }
 },
 "nbformat": 4,
 "nbformat_minor": 2
}
