{
 "cells": [
  {
   "cell_type": "code",
   "execution_count": null,
   "metadata": {
    "collapsed": true
   },
   "outputs": [],
   "source": [
    "import re\n",
    "\n",
    "with open('/home/beast/Downloads/1000bartender.txt', 'r', errors='ignore') as f:\n",
    "    array = f.readlines()\n",
    "idx = array.index('1. BLOODY MARY\\n')\n",
    "idx_end = array.index('Index\t553\\n')\n",
    "array = array[idx:idx_end-1]\n",
    "\n",
    "\n",
    "def remove_spam(file, what):\n",
    "    for _ in range(array.count(what)):\n",
    "        file.remove(what)\n",
    "\n",
    "remove_spam(array, \" 1000 BEST BARTENDER'S RECIPES\\n\")\n",
    "remove_spam(array, '\\n')\n",
    "\n",
    "array_join = ''.join(array)\n",
    "\n",
    "lst = []\n",
    "for cnt in range(1, 1001):\n",
    "    for line in array:\n",
    "        if line.startswith(str(cnt)+'.'):\n",
    "            # print(line.replace('\\n', ''))\n",
    "            lst.append(line.replace('\\n', ''))\n",
    "            break\n",
    "        if line == array[-1]:\n",
    "            print(cnt)\n",
    "\n",
    "with open('coc_names', 'w') as f:\n",
    "    f.write('\\n'.join(lst))"
   ]
  }
 ],
 "metadata": {
  "kernelspec": {
   "display_name": "Python 2",
   "language": "python",
   "name": "python2"
  },
  "language_info": {
   "codemirror_mode": {
    "name": "ipython",
    "version": 2
   },
   "file_extension": ".py",
   "mimetype": "text/x-python",
   "name": "python",
   "nbconvert_exporter": "python",
   "pygments_lexer": "ipython2",
   "version": "2.7.6"
  }
 },
 "nbformat": 4,
 "nbformat_minor": 0
}
